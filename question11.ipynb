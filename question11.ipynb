{
 "cells": [
  {
   "cell_type": "markdown",
   "id": "ae57c47a-9aa3-4967-898c-182305c354ea",
   "metadata": {},
   "source": [
    "<h1> Marina Zaed <h1>"
   ]
  },
  {
   "cell_type": "markdown",
   "id": "3218bc98-4540-4ab6-8c03-bc633629d621",
   "metadata": {},
   "source": [
    "Notebook for assignment 7"
   ]
  },
  {
   "cell_type": "code",
   "execution_count": 4,
   "id": "67460e02-f4f3-4ba6-ac26-f98897203cef",
   "metadata": {},
   "outputs": [
    {
     "name": "stdout",
     "output_type": "stream",
     "text": [
      "16.25\n"
     ]
    }
   ],
   "source": [
    "def compute_mean(lst):\n",
    "    mean_value = sum(lst) / len(lst)\n",
    "    print(mean_value)\n",
    "\n",
    "# Example \n",
    "compute_mean([2, 7, 25, 31])"
   ]
  },
  {
   "cell_type": "code",
   "execution_count": null,
   "id": "e7494fde-bf29-40a9-bf2e-ee3fc8d8e9a1",
   "metadata": {},
   "outputs": [],
   "source": []
  },
  {
   "cell_type": "markdown",
   "id": "479a66fd-3a68-4e33-810a-f905e7bcbea9",
   "metadata": {},
   "source": [
    "### Explanation\r\n",
    "\r\n",
    "The provided code defines a Python function `compute_mean` that calculates the mean of a given list of values. The mean, denoted as $\\bar{x}$, is computed using the explicit formula:\r\n",
    "\r\n",
    "$$\r\n",
    "\\bar{x} = \\frac{{\\sum_{i=1}^{n} x_i}}{{n}}\r\n",
    "$$\r\n",
    "\r\n",
    "where:\r\n",
    "- $\\bar{x}$ is the mean,\r\n",
    "- $x_i$ are individual values in the list,\r\n",
    "- $n$ is the number of values in the list.\r\n",
    "\r\n",
    "### LaTeX Expressions\r\n",
    "\r\n",
    "There are two ways to express the mean in LaTeX:\r\n",
    "1. Using the bar notation: $\\bar{x}$\r\n",
    "2. Using the explicit formula: $$\\frac{{\\sum_{i=1}^{n} x_i}}{{n}}$$"
   ]
  },
  {
   "cell_type": "code",
   "execution_count": null,
   "id": "5b8277f9-640d-4677-ba21-9b6ac5aa246c",
   "metadata": {},
   "outputs": [],
   "source": []
  }
 ],
 "metadata": {
  "kernelspec": {
   "display_name": "Python [conda env:jupyterlab_practice]",
   "language": "python",
   "name": "conda-env-jupyterlab_practice-py"
  },
  "language_info": {
   "codemirror_mode": {
    "name": "ipython",
    "version": 3
   },
   "file_extension": ".py",
   "mimetype": "text/x-python",
   "name": "python",
   "nbconvert_exporter": "python",
   "pygments_lexer": "ipython3",
   "version": "3.12.0"
  }
 },
 "nbformat": 4,
 "nbformat_minor": 5
}
